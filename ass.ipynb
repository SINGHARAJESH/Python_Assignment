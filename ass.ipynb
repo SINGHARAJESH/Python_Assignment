{
  "nbformat": 4,
  "nbformat_minor": 0,
  "metadata": {
    "colab": {
      "provenance": []
    },
    "kernelspec": {
      "name": "python3",
      "display_name": "Python 3"
    },
    "language_info": {
      "name": "python"
    }
  },
  "cells": [
    {
      "cell_type": "code",
      "execution_count": null,
      "metadata": {
        "id": "g-vy9PaZ3uTM"
      },
      "outputs": [],
      "source": []
    },
    {
      "cell_type": "markdown",
      "source": [
        "Assignment 50: Class Methods and Static Methods\n",
        "Create a class called MathOperations with class methods for basic mathematical operations like addition, subtraction, multiplication, and division.\n",
        "Implement a static method to compute the square root of a number.\n",
        "Demonstrate the use of both class methods and the static method in your code.\n"
      ],
      "metadata": {
        "id": "AdfhfsiW3zdA"
      }
    },
    {
      "cell_type": "code",
      "source": [
        "class MathOperations:\n",
        "    def __init__(self, num1, num2):\n",
        "        self.num1 = num1\n",
        "        self.num2 = num2\n",
        "\n",
        "    def add(self):\n",
        "        return self.num1 + self.num2\n",
        "\n",
        "    def subtract(self):\n",
        "        return self.num1 - self.num2\n",
        "\n",
        "    def multiply(self):\n",
        "        return self.num1 * self.num2\n",
        "\n",
        "    def divide(self):\n",
        "        if self.num2 == 0:\n",
        "            raise ValueError(\"Cannot divide by zero\")\n",
        "        else:\n",
        "          return self.num1 / self.num2\n",
        "\n",
        "    @staticmethod\n",
        "    def square_root(num):\n",
        "        return num ** 0.5\n",
        "\n",
        "math = MathOperations(10, 5)\n",
        "print(\"Addition:\", math.add())\n",
        "print(\"Subtraction:\", math.subtract())\n",
        "print(\"Multiplication:\", math.multiply())\n",
        "print(\"Division:\", math.divide())\n",
        "MathOperations.square_root(16)"
      ],
      "metadata": {
        "colab": {
          "base_uri": "https://localhost:8080/"
        },
        "id": "38VNbRaR353w",
        "outputId": "8ed7b4ab-b66a-4167-b519-dc11c75a4dd1"
      },
      "execution_count": null,
      "outputs": [
        {
          "output_type": "stream",
          "name": "stdout",
          "text": [
            "Addition: 15\n",
            "Subtraction: 5\n",
            "Multiplication: 50\n",
            "Division: 2.0\n"
          ]
        },
        {
          "output_type": "execute_result",
          "data": {
            "text/plain": [
              "4.0"
            ]
          },
          "metadata": {},
          "execution_count": 12
        }
      ]
    },
    {
      "cell_type": "code",
      "source": [],
      "metadata": {
        "id": "eEbg6spM4igD"
      },
      "execution_count": null,
      "outputs": []
    },
    {
      "cell_type": "markdown",
      "source": [
        "Assignment 51 :Composition\n",
        "Create two classes: Author and Book.\n",
        "The Author class should have attributes such as name, birth_date, and nationality.\n",
        "\n",
        "The Book class should have attributes like title, publication_date, and an instance of the Author class.\n",
        "\n",
        "Demonstrate composition by creating instances of the Book class with associated Author instances."
      ],
      "metadata": {
        "id": "SBTd4e216P75"
      }
    },
    {
      "cell_type": "code",
      "source": [
        "class Author:\n",
        "    def __init__(self, name, birth_date, nationality):\n",
        "        self.name = name\n",
        "        self.birth_date = birth_date\n",
        "        self.nationality = nationality\n",
        "\n",
        "class Book:\n",
        "    def __init__(self, title, publication_date, author):\n",
        "        self.title = title\n",
        "        self.publication_date = publication_date\n",
        "        self.author = author\n",
        "    def display(self):\n",
        "        print(\"Title:\", self.title)\n",
        "        print(\"Publication Date:\", self.publication_date)\n",
        "\n",
        "        print(\"Name:\", self.author.name)\n",
        "        print(\"Birth Date:\", self.author.birth_date)\n",
        "        print(\"Nationality:\", self.author.nationality)\n",
        "\n",
        "author = Author(\"John Doe\", \"1980-01-01\", \"Indian\")\n",
        "book = Book(\"The Great Gatsby\", \"1925-04-10\",author)\n",
        "\n",
        "book.display()\n"
      ],
      "metadata": {
        "colab": {
          "base_uri": "https://localhost:8080/"
        },
        "id": "SvJ_A6-B6dap",
        "outputId": "7950d815-8646-46fb-ea31-5e70e4ec6795"
      },
      "execution_count": null,
      "outputs": [
        {
          "output_type": "stream",
          "name": "stdout",
          "text": [
            "Title: The Great Gatsby\n",
            "Publication Date: 1925-04-10\n",
            "Name: John Doe\n",
            "Birth Date: 1980-01-01\n",
            "Nationality: Indian\n"
          ]
        }
      ]
    },
    {
      "cell_type": "markdown",
      "source": [
        "Assignment 52 :Basic Inheritance\n",
        "Create a base class named Vehicle with attributes like make, model, and year.\n",
        "\n",
        "Implement a method in the Vehicle class to display the vehicle information.\n",
        "\n",
        "Create two derived classes, Car and Motorcycle, that inherit from Vehicle.\n",
        "\n",
        "Add unique attributes and methods to each derived class.\n",
        "\n",
        "Demonstrate the use of inheritance by creating instances of both derived classes.\n"
      ],
      "metadata": {
        "id": "IWUJrHeF9Ns8"
      }
    },
    {
      "cell_type": "code",
      "source": [
        "class Vehicle:\n",
        "    def __init__(self, make, model, year):\n",
        "        self.make = make\n",
        "        self.model = model\n",
        "        self.year = year\n",
        "\n",
        "    def display(self):\n",
        "        print(\"Make:\", self.make)\n",
        "        print(\"Model:\", self.model)\n",
        "        print(\"Year:\", self.year)\n",
        "\n",
        "class Car(Vehicle):\n",
        "    def __init__(self, make, model, year, color,electic):\n",
        "        super().__init__(make, model, year)\n",
        "        self.color = color\n",
        "        self.electic = electic\n",
        "\n",
        "    def display1(self):\n",
        "        super().display()\n",
        "        print(\"Color:\", self.color)\n",
        "        print(\"Electric:\", self.electic)\n",
        "\n",
        "class Motorcycle(Vehicle):\n",
        "    def __init__(self, make, model, year, engine_size):\n",
        "        super().__init__(make, model, year)\n",
        "        self.engine_size = engine_size\n",
        "\n",
        "    def display2(self):\n",
        "        super().display()\n",
        "        print(\"Engine Size:\", self.engine_size)\n",
        "\n",
        "car = Car(\"tesla\", \"tesla s\", 2022, \"white\",\"yes\")\n",
        "motorcycle = Motorcycle(\"Honda\", \"CBR\", 2023, 125)\n",
        "\n",
        "car.display1()\n",
        "print(\"-------------\")\n",
        "motorcycle.display2()"
      ],
      "metadata": {
        "colab": {
          "base_uri": "https://localhost:8080/"
        },
        "id": "AP5Pdv4N6y-L",
        "outputId": "2fb58893-99ea-4401-c909-df0c5677d05a"
      },
      "execution_count": null,
      "outputs": [
        {
          "output_type": "stream",
          "name": "stdout",
          "text": [
            "Make: tesla\n",
            "Model: tesla s\n",
            "Year: 2022\n",
            "Color: white\n",
            "Electric: yes\n",
            "-------------\n",
            "Make: Honda\n",
            "Model: CBR\n",
            "Year: 2023\n",
            "Engine Size: 125\n"
          ]
        }
      ]
    },
    {
      "cell_type": "code",
      "source": [],
      "metadata": {
        "id": "wCmR1_999-dA"
      },
      "execution_count": null,
      "outputs": []
    },
    {
      "cell_type": "markdown",
      "source": [
        "Assignment 53 : Method Overriding\n",
        "Extend the previous assignment by overriding the display method in the Car class.\n",
        "\n",
        "Customize the display method in the Car class to include additional information specific to cars, such as the number of doors.\n",
        "\n",
        "Demonstrate that the overridden method is called when displaying information about a car instance.\n"
      ],
      "metadata": {
        "id": "jr8lrBrS_k19"
      }
    },
    {
      "cell_type": "code",
      "source": [
        "class Vehicle:\n",
        "    def __init__(self, make, model, year):\n",
        "        self.make = make\n",
        "        self.model = model\n",
        "        self.year = year\n",
        "\n",
        "    def display(self):\n",
        "        print(\"Make:\", self.make)\n",
        "        print(\"Model:\", self.model)\n",
        "        print(\"Year:\", self.year)\n",
        "class Car(Vehicle):\n",
        "    def __init__(self, make, model, year, color, doors):\n",
        "        super().__init__(make, model, year)\n",
        "        self.color = color\n",
        "        self.doors = doors\n",
        "\n",
        "    def display(self):\n",
        "\n",
        "        print(\"Color:\", self.color)\n",
        "        print(\"Doors:\", self.doors)\n",
        "\n",
        "car = Car(\"Tesla\", \"Model S\", 2022, \"Red\", 4)\n",
        "car.display()"
      ],
      "metadata": {
        "colab": {
          "base_uri": "https://localhost:8080/"
        },
        "id": "MmIRgtNpGkJI",
        "outputId": "652bb6a4-fb1b-4469-b754-b5e9db60a0f4"
      },
      "execution_count": null,
      "outputs": [
        {
          "output_type": "stream",
          "name": "stdout",
          "text": [
            "Color: Red\n",
            "Doors: 4\n"
          ]
        }
      ]
    },
    {
      "cell_type": "code",
      "source": [],
      "metadata": {
        "id": "4XfdQ2HzHAOe"
      },
      "execution_count": null,
      "outputs": []
    },
    {
      "cell_type": "markdown",
      "source": [
        "Assignment 54 : Multilevel Inheritance\n",
        "Create a base class named Animal with attributes like name and sound.\n",
        "\n",
        "Extend the Animal class to create a derived class named Mammal with additional attributes and methods.\n",
        "Further extend the hierarchy by creating a class named Dog that inherits from Mammal.\n",
        "\n",
        "Demonstrate the use of multilevel inheritance by creating instances of the Dog class."
      ],
      "metadata": {
        "id": "N5VpaLi7I3fW"
      }
    },
    {
      "cell_type": "code",
      "source": [
        "class Animal:\n",
        "    def __init__(self, name, sound):\n",
        "        self.name = name\n",
        "        self.sound = sound\n",
        "\n",
        "    def display(self):\n",
        "        print(\"Name:\", self.name)\n",
        "        print(\"Sound:\", self.sound)\n",
        "\n",
        "\n",
        "class Mammal(Animal):\n",
        "    def __init__(self, name, sound, weight):\n",
        "        super().__init__(name, sound)\n",
        "        self.weight = weight\n",
        "\n",
        "    def display1(self):\n",
        "        print(\"Name:\", self.name)\n",
        "        print(\"Sound:\", self.sound)\n",
        "        print(\"Weight:\", self.weight)\n",
        "class Dog(Mammal):\n",
        "    def __init__(self, name, sound, weight, type):\n",
        "        super().__init__(name, sound, weight)\n",
        "        self.type = type\n",
        "\n",
        "    def display2(self):\n",
        "        super().display1()\n",
        "        print(\"Type:\", self.type)\n",
        "\n",
        "dog = Dog(\"Max\", \"Woof\", 50, \"Labrador\")\n",
        "dog.display()\n",
        "print('--------')\n",
        "dog.display1()\n",
        "print('--------')\n",
        "dog.display2()"
      ],
      "metadata": {
        "colab": {
          "base_uri": "https://localhost:8080/"
        },
        "id": "5HZsvfbgI5wB",
        "outputId": "a767453b-a4ce-421a-e239-438c3069f12f"
      },
      "execution_count": null,
      "outputs": [
        {
          "output_type": "stream",
          "name": "stdout",
          "text": [
            "Name: Max\n",
            "Sound: Woof\n",
            "--------\n",
            "Name: Max\n",
            "Sound: Woof\n",
            "Weight: 50\n",
            "--------\n",
            "Name: Max\n",
            "Sound: Woof\n",
            "Weight: 50\n",
            "Type: Labrador\n"
          ]
        }
      ]
    },
    {
      "cell_type": "code",
      "source": [],
      "metadata": {
        "id": "2uZmYkUuKZHQ"
      },
      "execution_count": null,
      "outputs": []
    },
    {
      "cell_type": "markdown",
      "source": [
        "Assignment 55 : Abstract Base Class\n",
        "Define an abstract base class named Shape with an abstract method for calculating the area.\n",
        "\n",
        "Create two classes, Circle and Rectangle, that inherit from the Shape class.\n",
        "\n",
        "Implement the area calculation method in each derived class.\n",
        "\n",
        "Demonstrate the use of the abstract base class by creating instances of both derived classes.\n"
      ],
      "metadata": {
        "id": "WA-aV5m1N0RM"
      }
    },
    {
      "cell_type": "markdown",
      "source": [],
      "metadata": {
        "id": "1bpCKAlO8trv"
      }
    },
    {
      "cell_type": "code",
      "source": [
        "from abc import ABC, abstractmethod\n",
        "class Shape(ABC):\n",
        "    @abstractmethod\n",
        "    def area(self):\n",
        "        pass\n",
        "\n",
        "class Circle(Shape):\n",
        "    def __init__(self, radius):\n",
        "        self.radius = radius\n",
        "\n",
        "    def area(self):\n",
        "        return 3.14 * self.radius ** 2\n",
        "\n",
        "class Rectangle(Shape):\n",
        "    def __init__(self, length, width):\n",
        "        self.length = length\n",
        "        self.width = width\n",
        "\n",
        "    def area(self):\n",
        "        return self.length * self.width\n",
        "   # def display(self):\n",
        "       # print(\"Length:\", self.length)\n",
        "       # print(\"Width:\", self.width)\n",
        "\n",
        "circle = Circle(5)\n",
        "rectangle = Rectangle(4, 6)\n",
        "\n",
        "print(\"Circle Area:\", circle.area())\n",
        "print(\"Rectangle Area:\", rectangle.area())\n",
        "#print(rectangle.display())"
      ],
      "metadata": {
        "colab": {
          "base_uri": "https://localhost:8080/"
        },
        "id": "lStzJ9srN32o",
        "outputId": "6e097674-6977-45a6-91b5-94d02eb37c99"
      },
      "execution_count": null,
      "outputs": [
        {
          "output_type": "stream",
          "name": "stdout",
          "text": [
            "Circle Area: 78.5\n",
            "Rectangle Area: 24\n"
          ]
        }
      ]
    },
    {
      "cell_type": "markdown",
      "source": [
        "Assignment 56 : Polymorphism\n",
        "Create a base class named Employee with attributes like name and salary.\n",
        "Extend the Employee class to create two derived classes, Manager and Developer.\n",
        "Implement a method in each class to calculate the bonus.\n",
        "Demonstrate polymorphism by calling the bonus calculation method on instances of both Manager and Developer classes."
      ],
      "metadata": {
        "id": "BvYdNp2g8xCg"
      }
    },
    {
      "cell_type": "code",
      "source": [
        "class Employee:\n",
        "    def __init__(self, name, salary):\n",
        "        self.name = name\n",
        "        self.salary = salary\n",
        "class Manager(Employee):\n",
        "    def __init__(self, name, salary, department):\n",
        "        super().__init__(name, salary)\n",
        "        self.department = department\n",
        "\n",
        "    def calculate_bonus(self):\n",
        "        return self.salary * 0.1\n",
        "\n",
        "class Developer(Employee):\n",
        "    def __init__(self, name, salary, project):\n",
        "        super().__init__(name, salary)\n",
        "        self.project = project\n",
        "\n",
        "    def calculate_bonus(self):\n",
        "        return self.salary * 0.05\n",
        "\n",
        "manager = Manager(\"RAJESH\", 50000, \"IT\")\n",
        "developer = Developer(\"ARNAB\", 60000, \"pOWER BI\")\n",
        "print(\"Manager Bonus:\", manager.calculate_bonus())\n",
        "print(\"Developer Bonus:\", developer.calculate_bonus())"
      ],
      "metadata": {
        "id": "KCWdzKwtW2mA",
        "colab": {
          "base_uri": "https://localhost:8080/"
        },
        "outputId": "a02a1216-049c-423f-9364-5189e7d93e28"
      },
      "execution_count": null,
      "outputs": [
        {
          "output_type": "stream",
          "name": "stdout",
          "text": [
            "Manager Bonus: 5000.0\n",
            "Developer Bonus: 3000.0\n"
          ]
        }
      ]
    },
    {
      "cell_type": "code",
      "source": [],
      "metadata": {
        "id": "ScjvZzoI9uFy"
      },
      "execution_count": null,
      "outputs": []
    },
    {
      "cell_type": "markdown",
      "source": [
        "Assignment 57 :\n",
        "Basic Polymorphism\n",
        "Create a base class named Animal with a method make_sound.\n",
        "Create two derived classes, Dog and Cat, that inherit from Animal.\n",
        "Implement the make_sound method in each derived class to produce different sounds.\n",
        "\n",
        "Demonstrate polymorphism by calling the make_sound method on instances of both Dog and Cat."
      ],
      "metadata": {
        "id": "op32WHCr-aNH"
      }
    },
    {
      "cell_type": "code",
      "source": [
        "class Animal:\n",
        "  def __init__(self):\n",
        "    pass\n",
        "\n",
        "  def make_sound(self):\n",
        "    pass\n",
        "class Dog(Animal):\n",
        "  def make_sound(self):\n",
        "\n",
        "    print(\"Woof\")\n",
        "class Cat(Animal):\n",
        "\n",
        "  def make_sound(self):\n",
        "    print(\"Meow\")\n",
        "\n",
        "dog = Dog()\n",
        "cat = Cat()\n",
        "dog.make_sound()\n",
        "cat.make_sound()"
      ],
      "metadata": {
        "colab": {
          "base_uri": "https://localhost:8080/"
        },
        "id": "wu_gkEwR-wzS",
        "outputId": "8bc97d66-1015-4bb5-b763-ce00788ed8bc"
      },
      "execution_count": null,
      "outputs": [
        {
          "output_type": "stream",
          "name": "stdout",
          "text": [
            "Woof\n",
            "Meow\n"
          ]
        }
      ]
    },
    {
      "cell_type": "code",
      "source": [],
      "metadata": {
        "id": "DvIrp7TS_nYE"
      },
      "execution_count": null,
      "outputs": []
    },
    {
      "cell_type": "markdown",
      "source": [
        "Assignment 58 :\n",
        "Operator Overloading\n",
        "Define a class called Vector that represents a 2D vector.\n",
        "Implement the __add__ method to allow adding two vectors using the + operator.\n",
        "\n",
        "Implement the __mul__ method to allow multiplying a vector by a scalar using the * operator.\n",
        "\n",
        "Demonstrate the use of operator overloading by performing vector addition and scalar multiplication.\n"
      ],
      "metadata": {
        "id": "KRoQLHQzCUGz"
      }
    },
    {
      "cell_type": "code",
      "source": [
        "class Vector:\n",
        "    def __init__(self, i, j):\n",
        "        self.i = i\n",
        "        self.j = j\n",
        "    def __add__(self, other):\n",
        "\n",
        "        return Vector(self.i + other.i, self.j + other.j)\n",
        "\n",
        "    def __mul__(self, scalar):\n",
        "        return Vector(self.i * scalar, self.j * scalar)\n",
        "\n",
        "    def __str__(self):\n",
        "        return f\"{self.i}i + {self.j}j\"\n",
        "\n",
        "vector = Vector(2, 3)\n",
        "vector2 = Vector(4, 5)\n",
        "result = vector + vector2\n",
        "print(\"Addition:\", result)\n",
        "\n",
        "print(\"Multiplication:\", vector * 3)\n",
        "\n"
      ],
      "metadata": {
        "colab": {
          "base_uri": "https://localhost:8080/"
        },
        "id": "gFRG0c4nIKga",
        "outputId": "70ae0c71-9b7c-41b3-e757-682fef041812"
      },
      "execution_count": 18,
      "outputs": [
        {
          "output_type": "stream",
          "name": "stdout",
          "text": [
            "Addition: 6i + 8j\n",
            "Multiplication: 6i + 9j\n"
          ]
        }
      ]
    },
    {
      "cell_type": "code",
      "source": [],
      "metadata": {
        "id": "6_bWW1xaaoPg"
      },
      "execution_count": null,
      "outputs": []
    },
    {
      "cell_type": "code",
      "source": [],
      "metadata": {
        "id": "ymIlRXZVaoTE"
      },
      "execution_count": null,
      "outputs": []
    },
    {
      "cell_type": "markdown",
      "source": [
        "Assignment 60 :\n",
        "\n",
        "Function Polymorphism\n",
        "Create a function named calculate_area that takes an object representing a shape and calculates its area.\n",
        "Ensure that the function works with different shapes (e.g., circles, rectangles) by relying on polymorphism.\n",
        "Demonstrate the function with instances of various shape classes.\n"
      ],
      "metadata": {
        "id": "PEjZKSitapmS"
      }
    },
    {
      "cell_type": "code",
      "source": [
        "\n",
        "class Circle:\n",
        "    def __init__(self, radius):\n",
        "        self.radius = radius\n",
        "\n",
        "    def area(self):\n",
        "        return 3.14 * self.radius ** 2\n",
        "\n",
        "class Rectangle:\n",
        "    def __init__(self, length, width):\n",
        "        self.length = length\n",
        "        self.width = width\n",
        "\n",
        "    def area(self):\n",
        "        return self.length * self.width\n",
        "\n",
        "\n",
        "def calculate_area(shape):\n",
        "    if isinstance(shape, Circle):\n",
        "        return shape.radius ** 2 * 3.14\n",
        "    elif isinstance(shape, Rectangle):\n",
        "        return shape.length * shape.width\n",
        "circle = Circle(5)\n",
        "rectangle = Rectangle(4, 6)\n",
        "\n",
        "print(\"the area of the Circle is \",calculate_area(circle))\n",
        "print(\"the area of the Rectangle is \",calculate_area(rectangle))"
      ],
      "metadata": {
        "colab": {
          "base_uri": "https://localhost:8080/"
        },
        "id": "xNYaSg2qaswr",
        "outputId": "17843504-d52f-45d6-b664-3aa558bd9199"
      },
      "execution_count": null,
      "outputs": [
        {
          "output_type": "stream",
          "name": "stdout",
          "text": [
            "the area of the Circle is  78.5\n",
            "the area of the Rectangle is  24\n"
          ]
        }
      ]
    },
    {
      "cell_type": "code",
      "source": [],
      "metadata": {
        "id": "tG4RWOu7dBJH"
      },
      "execution_count": null,
      "outputs": []
    },
    {
      "cell_type": "markdown",
      "source": [
        "Assignment 61 :Abstract Base Class and Polymorphism\n",
        "Define an abstract base class named Shape with an abstract method calculate_area.\n",
        "\n",
        "Create two classes, Circle and Rectangle, that inherit from the Shape class.\n",
        "Implement the calculate_area method in each derived class.\n",
        "\n",
        "Demonstrate polymorphism by creating instances of both Circle and Rectangle and calling the calculate_area method."
      ],
      "metadata": {
        "id": "bKR-_Wb2gE0c"
      }
    },
    {
      "cell_type": "code",
      "source": [
        "from abc import ABC, abstractmethod\n",
        "class Shape:\n",
        "  def __init__(self):\n",
        "    pass\n",
        "  @abstractmethod\n",
        "  def calculate_area(self):\n",
        "    pass\n",
        "\n",
        "class Circle(Shape):\n",
        "  def __init__(self, radius):\n",
        "    self.radius = radius\n",
        "  def calculate_area(self):\n",
        "    return 3.14 * self.radius ** 2\n",
        "\n",
        "class Rectangle(Shape):\n",
        "  def __init__(self, length, width):\n",
        "    self.length = length\n",
        "    self.width = width\n",
        "  def calculate_area(self):\n",
        "    return self.length * self.width\n",
        "\n",
        "Circle = Circle(5)\n",
        "Rectangle = Rectangle(4, 6)\n",
        "print(Circle.calculate_area())\n",
        "print(Rectangle.calculate_area())"
      ],
      "metadata": {
        "colab": {
          "base_uri": "https://localhost:8080/"
        },
        "id": "VsLJbFb6QdBX",
        "outputId": "fe6cc377-60a7-4f67-ad52-c67a12d00531"
      },
      "execution_count": null,
      "outputs": [
        {
          "output_type": "stream",
          "name": "stdout",
          "text": [
            "78.5\n",
            "24\n"
          ]
        }
      ]
    },
    {
      "cell_type": "code",
      "source": [],
      "metadata": {
        "id": "oJIWf1m4gpF8"
      },
      "execution_count": null,
      "outputs": []
    },
    {
      "cell_type": "markdown",
      "source": [
        "Assignment 62 :\n",
        "\n",
        "Understanding Local Scope\n",
        "Write a Python function that declares a variable inside the function (local scope).\n",
        "\n",
        "Attempt to access the variable outside the function and observe the results.\n",
        "Explain the concept of local scope and how it affects variable access\n"
      ],
      "metadata": {
        "id": "jXDXT7Bqj6XQ"
      }
    },
    {
      "cell_type": "code",
      "source": [
        "def Students():\n",
        "\n",
        "    Name = \"Rajesh Singha\"\n",
        "    print(Name)\n",
        "Students()\n",
        "print(Name)"
      ],
      "metadata": {
        "colab": {
          "base_uri": "https://localhost:8080/",
          "height": 193
        },
        "id": "uOY8n25umbvB",
        "outputId": "09a7e7f5-5f71-4b56-a5cf-f584eb9936f3"
      },
      "execution_count": null,
      "outputs": [
        {
          "output_type": "stream",
          "name": "stdout",
          "text": [
            "Rajesh Singha\n"
          ]
        },
        {
          "output_type": "error",
          "ename": "NameError",
          "evalue": "name 'Name' is not defined",
          "traceback": [
            "\u001b[0;31m---------------------------------------------------------------------------\u001b[0m",
            "\u001b[0;31mNameError\u001b[0m                                 Traceback (most recent call last)",
            "\u001b[0;32m<ipython-input-18-4d6df07b7df8>\u001b[0m in \u001b[0;36m<cell line: 6>\u001b[0;34m()\u001b[0m\n\u001b[1;32m      4\u001b[0m     \u001b[0mprint\u001b[0m\u001b[0;34m(\u001b[0m\u001b[0mName\u001b[0m\u001b[0;34m)\u001b[0m\u001b[0;34m\u001b[0m\u001b[0;34m\u001b[0m\u001b[0m\n\u001b[1;32m      5\u001b[0m \u001b[0mStudents\u001b[0m\u001b[0;34m(\u001b[0m\u001b[0;34m)\u001b[0m\u001b[0;34m\u001b[0m\u001b[0;34m\u001b[0m\u001b[0m\n\u001b[0;32m----> 6\u001b[0;31m \u001b[0mprint\u001b[0m\u001b[0;34m(\u001b[0m\u001b[0mName\u001b[0m\u001b[0;34m)\u001b[0m\u001b[0;34m\u001b[0m\u001b[0;34m\u001b[0m\u001b[0m\n\u001b[0m",
            "\u001b[0;31mNameError\u001b[0m: name 'Name' is not defined"
          ]
        }
      ]
    },
    {
      "cell_type": "markdown",
      "source": [
        "\n",
        "\n",
        "\n",
        "*   Local Scope: Variables declared inside a function are in the local scope of that function. They can only be accessed within that function. These variables are created when the function is called and are destroyed when the function finishes execution.\n",
        "\n",
        "\n",
        "\n",
        "\n",
        "\n",
        "*   The print statement inside the function correctly outputs the value of Name because it is within the function's local scope.\n",
        "*   When we try to access Name, a NameError is raised because Name is not defined in the global scope or the outer scope\n",
        "\n",
        "\n",
        "*   This error occurs because local_variable only exists while the function Students is being executed. Once the function completes, Name variable is discarded.\n",
        "\n",
        "\n",
        "\n",
        "\n"
      ],
      "metadata": {
        "id": "iXkJftWRm9Jl"
      }
    },
    {
      "cell_type": "code",
      "source": [
        "def Students():\n",
        "    global name\n",
        "    name = \"Rajesh Singha\"\n",
        "    print(name)\n",
        "Students()\n",
        "print(name)"
      ],
      "metadata": {
        "id": "oAF9GQAqkCWg",
        "colab": {
          "base_uri": "https://localhost:8080/"
        },
        "outputId": "b616eb59-a6cb-482d-ab1b-fa1b532cab0d"
      },
      "execution_count": null,
      "outputs": [
        {
          "output_type": "stream",
          "name": "stdout",
          "text": [
            "Rajesh Singha\n",
            "Rajesh Singha\n"
          ]
        }
      ]
    },
    {
      "cell_type": "markdown",
      "source": [
        "\n",
        "\n",
        "*   Global Scope: Variables declared outside of all functions are in the global scope. They can be accessed from anywhere in the code, including inside functions, unless shadowed by a local variable with the same name.\n",
        "*   global_variable is declared outside the function\n",
        ".\n",
        "\n",
        "*   The global keyword is used to indicate that the function intends to modify the global variable Name.\n",
        "*   global_variable is then assigned the value 'Rajesh Singha.\n",
        "\n",
        "\n",
        "\n",
        "\n",
        "\n"
      ],
      "metadata": {
        "id": "oOLVvo4boymx"
      }
    },
    {
      "cell_type": "code",
      "source": [],
      "metadata": {
        "id": "ZP4CjwW2k2f9"
      },
      "execution_count": null,
      "outputs": []
    },
    {
      "cell_type": "markdown",
      "source": [
        "Assignment 63 :\n",
        "\n",
        "Global Scope\n",
        "Create a global variable outside of any function.\n",
        "Write a function that attempts to modify the global variable.\n",
        "Demonstrate the difference between accessing a global variable and creating a new local variable with the same name inside a function.\n"
      ],
      "metadata": {
        "id": "KiwrPOiSgOnx"
      }
    },
    {
      "cell_type": "code",
      "source": [
        "number = 10\n",
        "\n",
        "def modify_number():\n",
        "    global number\n",
        "    number = 20\n",
        "    print(number)\n",
        "\n",
        "modify_number()\n",
        "print(number)"
      ],
      "metadata": {
        "colab": {
          "base_uri": "https://localhost:8080/"
        },
        "id": "qZiaF4sugVuY",
        "outputId": "a6662015-53a1-4528-8cde-1a95c3c26678"
      },
      "execution_count": null,
      "outputs": [
        {
          "output_type": "stream",
          "name": "stdout",
          "text": [
            "20\n",
            "20\n"
          ]
        }
      ]
    },
    {
      "cell_type": "code",
      "source": [],
      "metadata": {
        "id": "8APCIzfRgmLB"
      },
      "execution_count": null,
      "outputs": []
    },
    {
      "cell_type": "markdown",
      "source": [
        "Assignment 64 :\n",
        "\n",
        "Encapsulation and Local Scope\n",
        "Define a class called Counter with an instance variable count.\n",
        "Implement methods to increment and retrieve the count value.\n",
        "Demonstrate how encapsulation works to protect the variable count from being directly accessed or modified outside the class."
      ],
      "metadata": {
        "id": "LcBqZrWPg_0H"
      }
    },
    {
      "cell_type": "code",
      "source": [
        "class Counter:\n",
        "    def __init__(self):\n",
        "        self.__count = 0\n",
        "\n",
        "    def set_increment(self,new_value):\n",
        "        self.__count += new_value\n",
        "\n",
        "    def get_count(self):\n",
        "        return self.__count\n",
        "\n",
        "counter = Counter()\n",
        "counter.set_increment(12)\n",
        "print(counter.get_count())"
      ],
      "metadata": {
        "colab": {
          "base_uri": "https://localhost:8080/"
        },
        "id": "QLWQNRVnhBkX",
        "outputId": "31ba8b1c-6cf4-40c8-bdde-a88eb6600163"
      },
      "execution_count": null,
      "outputs": [
        {
          "output_type": "stream",
          "name": "stdout",
          "text": [
            "12\n"
          ]
        }
      ]
    },
    {
      "cell_type": "code",
      "source": [],
      "metadata": {
        "id": "JffcFw6XoO6O"
      },
      "execution_count": null,
      "outputs": []
    },
    {
      "cell_type": "markdown",
      "source": [
        "Assignment 65 :\n",
        "\n",
        "Nested Functions and Scope\n",
        "Write a function that declares a variable in the outer function.\n",
        "Define an inner function within the outer function that attempts to access the outer variable.\n",
        "Demonstrate how the inner function can access and modify variables from the outer function's scope.\n"
      ],
      "metadata": {
        "id": "knKUlN65o26Y"
      }
    },
    {
      "cell_type": "code",
      "source": [
        "def outer_function():\n",
        "    outer_variable = \"Hello\"\n",
        "\n",
        "    def inner_function():\n",
        "\n",
        "        print(outer_variable)\n",
        "\n",
        "    inner_function()\n",
        "\n",
        "outer_function()"
      ],
      "metadata": {
        "colab": {
          "base_uri": "https://localhost:8080/"
        },
        "id": "Rya1rl5io4pV",
        "outputId": "0ff34c63-5cad-4948-ad71-b82afdf55883"
      },
      "execution_count": null,
      "outputs": [
        {
          "output_type": "stream",
          "name": "stdout",
          "text": [
            "Hello\n"
          ]
        }
      ]
    },
    {
      "cell_type": "markdown",
      "source": [
        "Assignment 66 :\n",
        "\n",
        "Nonlocal Keyword\n",
        "Create a function that declares a variable in the local scope.\n",
        "Define an inner function within the first function and use the nonlocal keyword to modify the outer function's variable.\n",
        "Demonstrate the use of nonlocal and explain how it differs from global."
      ],
      "metadata": {
        "id": "-rjVtcg9qtmY"
      }
    },
    {
      "cell_type": "code",
      "source": [
        "def outer_function():\n",
        "    outer_variable = \"Hello\"\n",
        "\n",
        "    def inner_function():\n",
        "        nonlocal outer_variable\n",
        "        outer_variable = \"World\"\n",
        "\n",
        "    inner_function()\n",
        "    print(outer_variable)\n",
        "\n",
        "outer_function()"
      ],
      "metadata": {
        "colab": {
          "base_uri": "https://localhost:8080/"
        },
        "id": "NNy8C7tNpPIC",
        "outputId": "1facaf5e-1ad1-48dd-e3be-95031406411a"
      },
      "execution_count": null,
      "outputs": [
        {
          "output_type": "stream",
          "name": "stdout",
          "text": [
            "World\n"
          ]
        }
      ]
    },
    {
      "cell_type": "code",
      "source": [],
      "metadata": {
        "id": "XA5NMpYUrP2w"
      },
      "execution_count": null,
      "outputs": []
    },
    {
      "cell_type": "markdown",
      "source": [
        "Assignment 71:\n",
        "\n",
        "Basic Error Handling\n",
        "Task: Create a Python script that reads two numbers from the user and performs division. Implement a try-except block to handle the ZeroDivisionError if the user attempts to divide by zero. Provide a meaningful error message."
      ],
      "metadata": {
        "id": "TInqcmGarrx4"
      }
    },
    {
      "cell_type": "code",
      "source": [
        "def divide_numbers(a, b):\n",
        "    try:\n",
        "        result = a / b\n",
        "        print(\"Result:\", result)\n",
        "    except ZeroDivisionError as e:\n",
        "        print(e) # you can use any of them\n",
        "        print(\"Error: Division by zero is not allowed.\")\n",
        "divide_numbers(10,0)"
      ],
      "metadata": {
        "colab": {
          "base_uri": "https://localhost:8080/"
        },
        "id": "suekx9AFrxF_",
        "outputId": "2b4f7650-787f-4051-a119-272a9c855c46"
      },
      "execution_count": null,
      "outputs": [
        {
          "output_type": "stream",
          "name": "stdout",
          "text": [
            "division by zero\n",
            "Error: Division by zero is not allowed.\n"
          ]
        }
      ]
    },
    {
      "cell_type": "markdown",
      "source": [
        "Assignment 72:\n",
        "\n",
        " File Reading with Error Handling\n",
        "Task: Develop a script that reads data from a user-specified text file. Implement a try-except block to handle the FileNotFoundError if the specified file does not exist. Display an appropriate message in such cases."
      ],
      "metadata": {
        "id": "-blH2Pf9uRI6"
      }
    },
    {
      "cell_type": "code",
      "source": [
        "with open('text.txt','w') as f:\n",
        "  f.write('Rajdeep Dar Pathshala')\n",
        "user_input = (input(\"Enter the file name: \"))\n",
        "try:\n",
        "  with open(user_input,'r') as f:\n",
        "    print(f.read())\n",
        "except FileNotFoundError as e:\n",
        "  print(e) # use any of them\n",
        "  print(\"There is no such file name - \",user_input)\n"
      ],
      "metadata": {
        "colab": {
          "base_uri": "https://localhost:8080/"
        },
        "id": "Ls-rmbZWtTPw",
        "outputId": "3198e16b-657f-437e-9349-899ddc8a4a8c"
      },
      "execution_count": null,
      "outputs": [
        {
          "output_type": "stream",
          "name": "stdout",
          "text": [
            "Enter the file name: hg\n",
            "[Errno 2] No such file or directory: 'hg'\n",
            "There is no such file name -  hg\n"
          ]
        }
      ]
    },
    {
      "cell_type": "markdown",
      "source": [
        "Assignment 73:\n",
        "\n",
        "Custom Exception Handling\n",
        "Task: Build a Python script that prompts the user for their age. Use a custom exception class, say InvalidAgeError, to raise an exception if the entered age is less than 0 or greater than 150. Implement a try-except block to catch and handle this custom exception."
      ],
      "metadata": {
        "id": "hUxrTuCCyoCT"
      }
    },
    {
      "cell_type": "code",
      "source": [
        "class Myexception(Exception):\n",
        "  def __init__(self,message):\n",
        "    self.message = message\n"
      ],
      "metadata": {
        "id": "EV2pXwalw5ED"
      },
      "execution_count": null,
      "outputs": []
    },
    {
      "cell_type": "code",
      "source": [
        "def validate_age(age):\n",
        "    if age < 0:\n",
        "        raise Myexception(\"Entered age is negative\")\n",
        "    elif age >150:\n",
        "      raise Myexception('Entered age is very high')\n",
        "    else:\n",
        "      print(\"Valid Age\")\n",
        "\n",
        "try:\n",
        "  age = int(input(\"Enter your age: \"))\n",
        "  validate_age(age)\n",
        "except Myexception as e:\n",
        "  print(e)"
      ],
      "metadata": {
        "colab": {
          "base_uri": "https://localhost:8080/"
        },
        "id": "MITbZiFp148G",
        "outputId": "4b4b4ebb-5dea-4e4b-b928-aec283b2f7e9"
      },
      "execution_count": null,
      "outputs": [
        {
          "output_type": "stream",
          "name": "stdout",
          "text": [
            "Enter your age: -10\n",
            "Entered age is negative\n"
          ]
        }
      ]
    },
    {
      "cell_type": "code",
      "source": [],
      "metadata": {
        "id": "dwNadnW22Oa_"
      },
      "execution_count": null,
      "outputs": []
    },
    {
      "cell_type": "code",
      "source": [],
      "metadata": {
        "id": "NJ8EqcflZVDd"
      },
      "execution_count": 12,
      "outputs": []
    },
    {
      "cell_type": "code",
      "source": [],
      "metadata": {
        "id": "h2TGAv_uZhNp"
      },
      "execution_count": null,
      "outputs": []
    },
    {
      "cell_type": "markdown",
      "source": [],
      "metadata": {
        "id": "rItuJojGpdEH"
      }
    },
    {
      "cell_type": "code",
      "source": [],
      "metadata": {
        "id": "tlm8Vy3MpeUP"
      },
      "execution_count": null,
      "outputs": []
    }
  ]
}